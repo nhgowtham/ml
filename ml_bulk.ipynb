{
 "cells": [
  {
   "cell_type": "code",
   "execution_count": 1,
   "metadata": {},
   "outputs": [],
   "source": [
    "import csv\n",
    "with open('result_ml_bulk.csv', 'r') as file:\n",
    "    contents = csv.reader(file)\n",
    "    \n",
    "    data, flag, names, modeldict = [], True, [], {}\n",
    "    Data = []\n",
    "    count = 0\n",
    "    for row in contents:\n",
    "            if flag:\n",
    "                for r in row: names.append(r)\n",
    "                flag = False\n",
    "            else:\n",
    "                data = [float(row[0]), float(row[1]), int(row[2]),int(row[3]),int(row[4]),int(row[5]),int(row[6]),int(row[7]),int(row[8]),int(row[9]),int(row[10]),float(row[11]),float(row[12])]\n",
    "                Data.append(data)"
   ]
  },
  {
   "cell_type": "code",
   "execution_count": 2,
   "metadata": {},
   "outputs": [],
   "source": [
    "I, O = [], []\n",
    "with open('result_ml_bulk.csv', 'r') as file:\n",
    "    contents = csv.reader(file)\n",
    "    flag = True\n",
    "    for row in contents:\n",
    "        if flag:\n",
    "            for r in row: names.append(r)\n",
    "            flag = False\n",
    "        else:\n",
    "            #data = [float(row[0]), float(row[1]), int(row[2]),int(row[3]),int(row[4]),int(row[5]),int(row[6]),int(row[7]),int(row[8]),int(row[9]),int(row[10]),float(row[11]),float(row[12])]\n",
    "            fin_size = float(row[0])\n",
    "            bc=float(row[1])\n",
    "            bw=float(row[2])\n",
    "            model = [float(x) for x in row[3:9]]\n",
    "            uni=float(row[10])\n",
    "            i = [fin_size,bc,bw]\n",
    "            i = i + model\n",
    "            i.append(uni)\n",
    "            I.append(i)\n",
    "\n",
    "            slc2 = row[-2]\n",
    "            #slc6 = row[-1]\n",
    "            O.append(slc2)#, slc6])"
   ]
  },
  {
   "cell_type": "code",
   "execution_count": 3,
   "metadata": {},
   "outputs": [],
   "source": [
    "maximum = max([float(o) for o in O[1:]])\n",
    "O[1:] = [float(o)/maximum for o in O[1:]]"
   ]
  },
  {
   "cell_type": "code",
   "execution_count": 4,
   "metadata": {},
   "outputs": [],
   "source": [
    "import torch, torch.nn as nn, torch.nn.functional as F\n",
    "\n",
    "class FeedNet(nn.Module):\n",
    "    \n",
    "    def __init__(self):\n",
    "        super(FeedNet, self).__init__()\n",
    "        self.layer1 = nn.Linear(10, 16)\n",
    "        self.layer2 = nn.Linear(16, 1)\n",
    "        self.sigmoid = nn.Sigmoid()\n",
    "    \n",
    "    def forward(self, x):\n",
    "        out = F.relu(self.layer1(x))\n",
    "        out = self.layer2(out)\n",
    "        out = self.sigmoid(out)\n",
    "        return out"
   ]
  },
  {
   "cell_type": "code",
   "execution_count": 5,
   "metadata": {},
   "outputs": [],
   "source": [
    "# # 80% train and 20% test\n",
    "\n",
    "# In[5]:\n",
    "\n",
    "\n",
    "import random\n",
    "full = range(1, len(I)-1)\n",
    "train = random.sample(full, int(0.8*len(I)))\n",
    "test = list(set(full) - set(train))"
   ]
  },
  {
   "cell_type": "code",
   "execution_count": 6,
   "metadata": {
    "scrolled": true
   },
   "outputs": [
    {
     "name": "stderr",
     "output_type": "stream",
     "text": [
      "100%|██████████| 500/500 [01:53<00:00,  4.48it/s]\n"
     ]
    }
   ],
   "source": [
    "# # train the model\n",
    "\n",
    "# In[6]:\n",
    "\n",
    "from tqdm import tqdm\n",
    "criterion = nn.MSELoss()\n",
    "I, O = torch.FloatTensor(I[1:]), torch.FloatTensor(O[1:]).unsqueeze(1)\n",
    "FFNN = FeedNet()\n",
    "\n",
    "optimiser = torch.optim.Adam(FFNN.parameters(), lr=0.001)\n",
    "FFNN.train()\n",
    "for _ in tqdm(range(500)):\n",
    "    for i in train:\n",
    "        optimiser.zero_grad()\n",
    "        P = FFNN(I[i])\n",
    "        loss = criterion(P, O[i])\n",
    "        loss.backward()\n",
    "        optimiser.step()"
   ]
  },
  {
   "cell_type": "code",
   "execution_count": 7,
   "metadata": {},
   "outputs": [
    {
     "name": "stdout",
     "output_type": "stream",
     "text": [
      "datapoint 256 , actual: 1.1781227588653564 , and predicted: 1.4346486330032349\n",
      "datapoint 129 , actual: 0.9002285003662109 , and predicted: 0.798508882522583\n",
      "datapoint 257 , actual: 1.0649906396865845 , and predicted: 1.7662811279296875\n",
      "datapoint 259 , actual: 0.52049320936203 , and predicted: 0.6539555191993713\n",
      "datapoint 262 , actual: 1.0203921794891357 , and predicted: 1.380662441253662\n",
      "datapoint 135 , actual: 0.36610594391822815 , and predicted: 1.1895500421524048\n",
      "datapoint 136 , actual: 1.0590840578079224 , and predicted: 0.9707424640655518\n",
      "datapoint 137 , actual: 0.4801871180534363 , and predicted: 1.2087163925170898\n",
      "datapoint 266 , actual: 0.6320168972015381 , and predicted: 0.8101460933685303\n",
      "datapoint 267 , actual: 1.5093810558319092 , and predicted: 1.4943362474441528\n",
      "datapoint 269 , actual: 1.2390562295913696 , and predicted: 1.5527775287628174\n",
      "datapoint 15 , actual: 1.0030618906021118 , and predicted: 0.43939223885536194\n",
      "datapoint 17 , actual: 0.1673341989517212 , and predicted: 0.27888181805610657\n",
      "datapoint 275 , actual: 2.234585762023926 , and predicted: 1.8683342933654785\n",
      "datapoint 20 , actual: 0.44425129890441895 , and predicted: 0.8593145608901978\n",
      "datapoint 148 , actual: 0.10138647258281708 , and predicted: 0.5885665416717529\n",
      "datapoint 23 , actual: 0.24765223264694214 , and predicted: 0.4969753623008728\n",
      "datapoint 24 , actual: 0.1125965341925621 , and predicted: 0.36543717980384827\n",
      "datapoint 26 , actual: 0.2581285834312439 , and predicted: 0.8190712928771973\n",
      "datapoint 282 , actual: 1.1680949926376343 , and predicted: 1.4107935428619385\n",
      "datapoint 28 , actual: 0.7748749256134033 , and predicted: 0.6112794280052185\n",
      "datapoint 157 , actual: 0.7691479921340942 , and predicted: 0.7933197617530823\n",
      "datapoint 285 , actual: 1.2221418619155884 , and predicted: 1.7619459629058838\n",
      "datapoint 31 , actual: 0.03257681056857109 , and predicted: 0.18007446825504303\n",
      "datapoint 288 , actual: 1.1569445133209229 , and predicted: 1.312277913093567\n",
      "datapoint 162 , actual: 0.14482860267162323 , and predicted: 0.9037286639213562\n",
      "datapoint 165 , actual: 0.33484432101249695 , and predicted: 1.2029285430908203\n",
      "datapoint 39 , actual: 0.1040685847401619 , and predicted: 0.3006727993488312\n",
      "datapoint 168 , actual: 0.4998513162136078 , and predicted: 0.5792557597160339\n",
      "datapoint 43 , actual: 0.4103085398674011 , and predicted: 0.44424688816070557\n",
      "datapoint 171 , actual: 0.4352200925350189 , and predicted: 0.5126948952674866\n",
      "datapoint 172 , actual: 0.12340951710939407 , and predicted: 0.6786586046218872\n",
      "datapoint 174 , actual: 0.5646778345108032 , and predicted: 1.2011637687683105\n",
      "datapoint 176 , actual: 0.006965870037674904 , and predicted: 0.584227979183197\n",
      "datapoint 304 , actual: 1.3800195455551147 , and predicted: 1.7039161920547485\n",
      "datapoint 179 , actual: 0.15706731379032135 , and predicted: 0.8390220403671265\n",
      "datapoint 52 , actual: 0.05925339460372925 , and predicted: 0.3624049425125122\n",
      "datapoint 308 , actual: 0.47054198384284973 , and predicted: 0.5483807921409607\n",
      "datapoint 182 , actual: 0.772495448589325 , and predicted: 0.8895200490951538\n",
      "datapoint 55 , actual: 0.4110577702522278 , and predicted: 0.4439000189304352\n",
      "datapoint 56 , actual: 0.7780989408493042 , and predicted: 0.6282379031181335\n",
      "datapoint 183 , actual: 0.00844903290271759 , and predicted: 0.7320528030395508\n",
      "datapoint 188 , actual: 0.8067018389701843 , and predicted: 1.5547813177108765\n",
      "datapoint 63 , actual: 0.9844055771827698 , and predicted: 0.7811152338981628\n",
      "datapoint 66 , actual: 0.023741409182548523 , and predicted: 0.20690029859542847\n",
      "datapoint 67 , actual: 0.08144431561231613 , and predicted: 0.29809725284576416\n",
      "datapoint 194 , actual: 1.0683636665344238 , and predicted: 1.5679317712783813\n",
      "datapoint 195 , actual: 0.4263519048690796 , and predicted: 1.0125480890274048\n",
      "datapoint 72 , actual: 0.26620128750801086 , and predicted: 0.37900418043136597\n",
      "datapoint 76 , actual: 0.7473703026771545 , and predicted: 0.8741194605827332\n",
      "datapoint 80 , actual: 0.02329513058066368 , and predicted: 0.35939326882362366\n",
      "datapoint 87 , actual: 0.008913916535675526 , and predicted: 0.17363227903842926\n",
      "datapoint 216 , actual: 0.775172770023346 , and predicted: 1.5495867729187012\n",
      "datapoint 224 , actual: 0.35909318923950195 , and predicted: 0.5029042363166809\n",
      "datapoint 98 , actual: 1.190081238746643 , and predicted: 0.9717627167701721\n",
      "datapoint 228 , actual: 1.217707633972168 , and predicted: 1.440151333808899\n",
      "datapoint 104 , actual: 0.8858863711357117 , and predicted: 0.881560742855072\n",
      "datapoint 109 , actual: 0.07654860615730286 , and predicted: 0.49817678332328796\n",
      "datapoint 111 , actual: 0.4510645866394043 , and predicted: 1.029625415802002\n",
      "datapoint 112 , actual: 0.4321885108947754 , and predicted: 0.5474260449409485\n",
      "datapoint 113 , actual: 0.17937436699867249 , and predicted: 0.4651187062263489\n",
      "datapoint 240 , actual: 1.997353434562683 , and predicted: 1.7419430017471313\n",
      "datapoint 241 , actual: 1.3020612001419067 , and predicted: 1.5579617023468018\n",
      "datapoint 121 , actual: 0.2562740743160248 , and predicted: 0.8320645689964294\n",
      "datapoint 122 , actual: 0.7413598299026489 , and predicted: 0.6425949335098267\n",
      "datapoint 124 , actual: 0.9542566537857056 , and predicted: 1.2274624109268188\n"
     ]
    }
   ],
   "source": [
    "\n",
    "# # test the model\n",
    "\n",
    "# In[14]:\n",
    "\n",
    "\n",
    "FFNN.eval()\n",
    "for i in test:\n",
    "    P = FFNN(I[i])\n",
    "    print(\"datapoint\", i, \", actual:\", float(O[i]*maximum), \", and predicted:\", float(P*maximum))"
   ]
  },
  {
   "cell_type": "code",
   "execution_count": 8,
   "metadata": {},
   "outputs": [
    {
     "data": {
      "application/javascript": [
       "\n",
       "Jupyter.keyboard_manager.command_shortcuts.add_shortcut('r', {\n",
       "    help : 'run all cells',\n",
       "    help_index : 'zz',\n",
       "    handler : function (event) {\n",
       "        IPython.notebook.execute_all_cells();\n",
       "        return false;\n",
       "    }}\n",
       ");"
      ],
      "text/plain": [
       "<IPython.core.display.Javascript object>"
      ]
     },
     "metadata": {},
     "output_type": "display_data"
    }
   ],
   "source": [
    "%%javascript\n",
    "\n",
    "Jupyter.keyboard_manager.command_shortcuts.add_shortcut('r', {\n",
    "    help : 'run all cells',\n",
    "    help_index : 'zz',\n",
    "    handler : function (event) {\n",
    "        IPython.notebook.execute_all_cells();\n",
    "        return false;\n",
    "    }}\n",
    ");\n"
   ]
  },
  {
   "cell_type": "code",
   "execution_count": null,
   "metadata": {},
   "outputs": [],
   "source": []
  }
 ],
 "metadata": {
  "kernelspec": {
   "display_name": "Python [conda root]",
   "language": "python",
   "name": "conda-root-py"
  },
  "language_info": {
   "codemirror_mode": {
    "name": "ipython",
    "version": 3
   },
   "file_extension": ".py",
   "mimetype": "text/x-python",
   "name": "python",
   "nbconvert_exporter": "python",
   "pygments_lexer": "ipython3",
   "version": "3.6.8"
  }
 },
 "nbformat": 4,
 "nbformat_minor": 2
}
